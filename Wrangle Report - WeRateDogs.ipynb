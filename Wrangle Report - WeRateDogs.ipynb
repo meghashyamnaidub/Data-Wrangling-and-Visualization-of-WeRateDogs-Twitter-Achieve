{
 "cells": [
  {
   "cell_type": "markdown",
   "metadata": {},
   "source": [
    "## Introduction\n",
    "\n",
    "**For the data wrangling analysis, I have used the WeRateDogs dataset and performed following tasks**\n",
    "\n",
    "- Gathering data\n",
    "\n",
    "\n",
    "- Assessing data\n",
    "\n",
    "\n",
    "- Cleaning data\n",
    "\n",
    "\n",
    "- Storing, analyzing, and visualizing your wrangled data\n",
    "\n",
    "\n",
    "- Reporting on 1) your data wrangling efforts and 2) your data analyses and visualizations"
   ]
  },
  {
   "cell_type": "markdown",
   "metadata": {},
   "source": [
    "## Gathering data"
   ]
  },
  {
   "cell_type": "markdown",
   "metadata": {},
   "source": [
    "As a part of the data gathering process, I have used the resources provided by `Udacity`  which including \n",
    "\n",
    "\n",
    "- **twitter-archive-master.csv**\n",
    "\n",
    "\n",
    "- **image_predictions.tsv**\n",
    "\n",
    "\n",
    "- **tweet_json.txt**\n",
    "\n",
    "\n",
    "Here, I have direclty used the `tweet_json.txt` directly to get the `following_count` and `retweet_count` rather than using a getting the same data through `tweepy` by querying `twitter API`"
   ]
  },
  {
   "cell_type": "markdown",
   "metadata": {},
   "source": [
    "## Assessing Data "
   ]
  },
  {
   "cell_type": "markdown",
   "metadata": {},
   "source": [
    "- To assess data, I have identified following 8 **data  quality** issues and 2 **tidy (strctural issues)**\n",
    "\n",
    "**Data Quality Issue 1**\n",
    "\n",
    "- Some features including reply_to_status_id, in_reply_to_user_id, retweeted_status_id, retweeted_status_user_id, retweeted_status_timestamp have high number of missing values, since they can't help much for this analysis, I have deleted them.\n",
    "\n",
    "**Data Quality Issue 2**\n",
    "\n",
    "- In twitter_archieve table, datatype of the column timestamp should be datatime\n",
    "\n",
    "\n",
    "- In twitter_api table, all features should have datatype as int64\n",
    "\n",
    "**Data Quality issue 3**\n",
    "\n",
    "- The varaible expanded_urls in twitter_archieve table also has 59 missing values, which means some records had no images. But in our analysis, we are not taking ratings without images.\n",
    "\n",
    "**Data Quality issue 4**\n",
    "\n",
    "- The rating numerator is < 430 many times, but which should not be the case as rating numerator always >10, So that is incorrect value for the rating numerator and I chose to replace those values with the mean of the column.\n",
    "\n",
    "**Data Quality issue 5**\n",
    "\n",
    "- There are 108 instances where the name of the dog is starting with lower case letter, so to make it consistant, I have capitalized the first letter of these 108 instances.\n",
    "\n",
    "**Data Quality issue 6**\n",
    "\n",
    "- The rating denominator is !=10 19 time, but which should not be the case as rating denominator always most of the times should be = 10, So that is incorrect value for the rating denominaor and I chose to replace those values with the the value 10 in the location where it is not equals to 10\n",
    "\n",
    "**Data Quality issue 7**\n",
    "\n",
    "- I felt the source column in the twitter_arhieve table needs formatting, so I have removing everything unnecessary using regular expression and converted the datatype to category\n",
    "\n",
    "**Data Quality issue 8**\n",
    "- The column names of image predictions tables are explanatore and detailed, so I have modified them so that it is easy to understand.\n",
    "\n",
    "**Tidy Issue1**\n",
    "- We can create a single column as stage_of_dog for the columns doggo, floofer, pupper, puppo in twitter_archive table\n",
    "\n",
    "**Tidy Issue2**\n",
    "\n",
    "- twitter_archieve and twitter_api should become a single table as they both are providing the tweet information."
   ]
  },
  {
   "cell_type": "markdown",
   "metadata": {},
   "source": [
    "## Storing, Analyzing, and Visualizing Data"
   ]
  },
  {
   "cell_type": "markdown",
   "metadata": {},
   "source": [
    "- After properly dealing with the above quality and structural issues, we have considerably produced the better data and saved it `twitter_archive_enhanced.csv` and used the data in this file to visualize and gain some insights\n",
    "\n",
    "\n",
    "- Further, I have made a visualizations to find \n",
    "\n",
    "             - what is the frequent type of source ?\n",
    "             \n",
    "             - What is the frequent type of dog stage?\n",
    "             \n",
    "             - Correlation coeffient between the features and the realation between `favourite_count`, `retweet_count`\n",
    "             \n",
    "             - Average `retweet_count` for various stages of dog\n",
    "             \n",
    "             - Average `following_count` for various stages of dog"
   ]
  },
  {
   "cell_type": "code",
   "execution_count": null,
   "metadata": {},
   "outputs": [],
   "source": []
  }
 ],
 "metadata": {
  "kernelspec": {
   "display_name": "Python 3",
   "language": "python",
   "name": "python3"
  },
  "language_info": {
   "codemirror_mode": {
    "name": "ipython",
    "version": 3
   },
   "file_extension": ".py",
   "mimetype": "text/x-python",
   "name": "python",
   "nbconvert_exporter": "python",
   "pygments_lexer": "ipython3",
   "version": "3.7.7"
  }
 },
 "nbformat": 4,
 "nbformat_minor": 4
}
